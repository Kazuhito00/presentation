{
 "cells": [
  {
   "cell_type": "code",
   "execution_count": 25,
   "metadata": {
    "slideshow": {
     "slide_type": "skip"
    }
   },
   "outputs": [
    {
     "data": {
      "text/html": [
       "<link rel=\"stylesheet\" type=\"text/css\" href=\"css/rise.css\">\n"
      ],
      "text/plain": [
       "<IPython.core.display.HTML object>"
      ]
     },
     "metadata": {},
     "output_type": "display_data"
    }
   ],
   "source": [
    "%%HTML\n",
    "<link rel=\"stylesheet\" type=\"text/css\" href=\"css/rise.css\">"
   ]
  },
  {
   "cell_type": "code",
   "execution_count": 26,
   "metadata": {
    "slideshow": {
     "slide_type": "skip"
    }
   },
   "outputs": [],
   "source": [
    "import tensorflow as tf\n",
    "import cv2\n",
    "import time\n",
    "import copy\n",
    "import numpy as np\n",
    "from io import BytesIO\n",
    "from PIL import Image\n",
    "import IPython\n",
    "\n",
    "import posenet"
   ]
  },
  {
   "cell_type": "markdown",
   "metadata": {
    "slideshow": {
     "slide_type": "skip"
    }
   },
   "source": [
    "　"
   ]
  },
  {
   "cell_type": "markdown",
   "metadata": {
    "slideshow": {
     "slide_type": "slide"
    }
   },
   "source": [
    "<br><br>\n",
    "<center><font size=\"10\" color=\"#efeff0\"><b>Jupyter Notebookでプレゼンテーション<br>- 画像処理編 -</b></font></center>\n",
    "<center><font size=\"6\" color=\"#efeff0\"><b>Python東海/JuliaTokaiミニ合同勉強会　2020/5/30(土)</b></font></center>\n",
    "<br>"
   ]
  },
  {
   "cell_type": "markdown",
   "metadata": {
    "slideshow": {
     "slide_type": "slide"
    }
   },
   "source": [
    "# お前、誰よ？"
   ]
  },
  {
   "cell_type": "markdown",
   "metadata": {
    "slideshow": {
     "slide_type": "fragment"
    }
   },
   "source": [
    "<table>\n",
    "    <tr>\n",
    "        <td><img src=\"image/fish.gif\" alt=\"Drawing\" style=\"width: 200px;\"/></td>\n",
    "        <td><font size=\"6\">名前　 　：高橋かずひと<br>\n",
    "            Twitter　：@KzhtTkhs<br>\n",
    "            お仕事 　：組込、画像処理、IoT、Webアプリなど</font><br>\n",
    "            <font size=\"4\">その他、個人の活動で、インディーゲーム制作のお手伝をしています。</font>\n",
    "        </td>\n",
    "    </tr>\n",
    "</table>"
   ]
  },
  {
   "cell_type": "markdown",
   "metadata": {
    "slideshow": {
     "slide_type": "slide"
    }
   },
   "source": [
    "# 出没先"
   ]
  },
  {
   "cell_type": "markdown",
   "metadata": {
    "slideshow": {
     "slide_type": "fragment"
    }
   },
   "source": [
    "<center><img src=\"image/studygroup.png\" alt=\"Drawing\" style=\"width: 800px;\"/></center>"
   ]
  },
  {
   "cell_type": "markdown",
   "metadata": {
    "slideshow": {
     "slide_type": "slide"
    }
   },
   "source": [
    "# <font size=\"8\" color=\"#efeff0\">画像処理(ディープラーニング、AR、など)で<br>良く遊んでいます。</font>"
   ]
  },
  {
   "cell_type": "markdown",
   "metadata": {
    "slideshow": {
     "slide_type": "fragment"
    }
   },
   "source": [
    "<center><video width=\"55%\" src=\"image/movie.mp4\" controls/></center>"
   ]
  },
  {
   "cell_type": "markdown",
   "metadata": {
    "slideshow": {
     "slide_type": "slide"
    }
   },
   "source": [
    "# 今回のお話"
   ]
  },
  {
   "cell_type": "markdown",
   "metadata": {
    "slideshow": {
     "slide_type": "fragment"
    }
   },
   "source": [
    "* Jupyter notebookで画像処理のデモをしながら<br>プレゼンするお話です。"
   ]
  },
  {
   "cell_type": "markdown",
   "metadata": {
    "slideshow": {
     "slide_type": "fragment"
    }
   },
   "source": [
    "　　　※JupyterLabのお話ではありません、、、"
   ]
  },
  {
   "cell_type": "markdown",
   "metadata": {
    "slideshow": {
     "slide_type": "slide"
    }
   },
   "source": [
    "# オンラインの画像処理デモの問題点<br>※個人的所感"
   ]
  },
  {
   "cell_type": "markdown",
   "metadata": {
    "slideshow": {
     "slide_type": "fragment"
    }
   },
   "source": [
    "* 資料に対して「画面共有」を行っているため、他アプリを立ち上げてデモするのは大変\n",
    "* Youtubeにデモ動画をアップロードして再生すると、<br>Web会議の通信と合わせて通信速度が不安"
   ]
  },
  {
   "cell_type": "markdown",
   "metadata": {
    "slideshow": {
     "slide_type": "subslide"
    }
   },
   "source": [
    "* ローカルに保存したデモ動画を<br>プレゼンソフト内で再生すれば良いのでは？"
   ]
  },
  {
   "cell_type": "markdown",
   "metadata": {
    "slideshow": {
     "slide_type": "fragment"
    }
   },
   "source": [
    "　　　→せっかくだから動くところを見せたい（わがまま）"
   ]
  },
  {
   "cell_type": "markdown",
   "metadata": {
    "slideshow": {
     "slide_type": "slide"
    }
   },
   "source": [
    "# 実現方法"
   ]
  },
  {
   "cell_type": "markdown",
   "metadata": {
    "slideshow": {
     "slide_type": "fragment"
    }
   },
   "source": [
    "1. 拡張機能「RISE」を使って、<br>Jupyter notebookをプレゼンツール化する\n",
    "1. Jupyter notebook上で画像処理をゴリゴリ書く\n",
    "1. IPython.displayを使って描画する"
   ]
  },
  {
   "cell_type": "markdown",
   "metadata": {
    "slideshow": {
     "slide_type": "subslide"
    }
   },
   "source": [
    "# 拡張機能「RISE」<br><font size=\"6\" color=\"#efeff0\">https://github.com/damianavila/RISE</font>"
   ]
  },
  {
   "cell_type": "markdown",
   "metadata": {
    "slideshow": {
     "slide_type": "fragment"
    }
   },
   "source": [
    "<center><img src=\"image/03.png\" alt=\"Drawing\" style=\"width: 1250px;\"/></center>"
   ]
  },
  {
   "cell_type": "markdown",
   "metadata": {
    "slideshow": {
     "slide_type": "subslide"
    }
   },
   "source": [
    "# Jupyter notebook上で画像処理をゴリゴリ書く"
   ]
  },
  {
   "cell_type": "code",
   "execution_count": 20,
   "metadata": {
    "slideshow": {
     "slide_type": "fragment"
    }
   },
   "outputs": [],
   "source": [
    "def exec_posenet(cap, sess, model_outputs, output_stride):\n",
    "    input_image, display_image, output_scale = posenet.read_cap(\n",
    "        cap,\n",
    "        scale_factor=0.7125,\n",
    "        output_stride=output_stride)\n",
    "    temp_image = copy.deepcopy(display_image)\n",
    "\n",
    "    heatmaps_result, offsets_result, displacement_fwd_result, displacement_bwd_result = sess.run(\n",
    "        model_outputs, feed_dict={'image:0': input_image})\n",
    "\n",
    "    pose_scores, keypoint_scores, keypoint_coords = posenet.decode_multi.decode_multiple_poses(\n",
    "        heatmaps_result.squeeze(axis=0),\n",
    "        offsets_result.squeeze(axis=0),\n",
    "        displacement_fwd_result.squeeze(axis=0),\n",
    "        displacement_bwd_result.squeeze(axis=0),\n",
    "        output_stride=output_stride,\n",
    "        max_pose_detections=10,\n",
    "        min_pose_score=0.15)\n",
    "\n",
    "    keypoint_coords *= output_scale\n",
    "\n",
    "    return draw_posenet(temp_image, pose_scores, keypoint_scores, keypoint_coords)"
   ]
  },
  {
   "cell_type": "markdown",
   "metadata": {
    "slideshow": {
     "slide_type": "subslide"
    }
   },
   "source": [
    "# IPython.displayを使って描画する"
   ]
  },
  {
   "cell_type": "code",
   "execution_count": 21,
   "metadata": {
    "slideshow": {
     "slide_type": "fragment"
    }
   },
   "outputs": [],
   "source": [
    "def draw_posenet(display_image, pose_scores, keypoint_scores, keypoint_coords):\n",
    "    overlay_image = posenet.draw_skel_and_kp2(\n",
    "        display_image,\n",
    "        pose_scores,\n",
    "        keypoint_scores,\n",
    "        keypoint_coords,\n",
    "        min_pose_score=0.15,\n",
    "        min_part_score=0.1)\n",
    "    overlay_image = cv2.cvtColor(overlay_image, cv2.COLOR_BGR2RGB)\n",
    "    return array_to_image(overlay_image)"
   ]
  },
  {
   "cell_type": "code",
   "execution_count": 22,
   "metadata": {
    "slideshow": {
     "slide_type": "fragment"
    }
   },
   "outputs": [],
   "source": [
    "def array_to_image(a, fmt='jpeg'):\n",
    "    f = BytesIO()\n",
    "    Image.fromarray(a).save(f, fmt)\n",
    "    return IPython.display.Image(data=f.getvalue())"
   ]
  },
  {
   "cell_type": "code",
   "execution_count": 23,
   "metadata": {
    "slideshow": {
     "slide_type": "subslide"
    }
   },
   "outputs": [],
   "source": [
    "def play_demo(camera=0, play_time=5):\n",
    "    notebook_display = IPython.display.display(\"\", display_id=1)\n",
    "\n",
    "    cap = cv2.VideoCapture(camera)\n",
    "    cap.set(3, 640), cap.set(4, 360)\n",
    "\n",
    "    sess = tf.Session()\n",
    "    model_cfg, model_outputs = posenet.load_model(101, sess)\n",
    "\n",
    "    start_time = time.time()\n",
    "    while True:\n",
    "        display_image = exec_posenet(cap, sess, model_outputs, model_cfg['output_stride'])\n",
    "        notebook_display.update(display_image)\n",
    "        if (time.time() - start_time) > play_time:\n",
    "            break\n",
    "    cap.release()"
   ]
  },
  {
   "cell_type": "markdown",
   "metadata": {
    "slideshow": {
     "slide_type": "slide"
    }
   },
   "source": [
    "# デモ"
   ]
  },
  {
   "cell_type": "code",
   "execution_count": 30,
   "metadata": {
    "slideshow": {
     "slide_type": "fragment"
    }
   },
   "outputs": [
    {
     "data": {
      "image/jpeg": "[encoded data removed]",
      "text/plain": [
       "<IPython.core.display.Image object>"
      ]
     },
     "metadata": {},
     "output_type": "display_data"
    }
   ],
   "source": [
    "play_demo(camera=0, play_time=15)"
   ]
  },
  {
   "cell_type": "markdown",
   "metadata": {
    "slideshow": {
     "slide_type": "slide"
    }
   },
   "source": [
    "<center><font size=\"12\" color=\"#efeff0\"><b>ご清聴ありがとうございました🙃</b></font></center>"
   ]
  }
 ],
 "metadata": {
  "celltoolbar": "Slideshow",
  "kernelspec": {
   "display_name": "pycaret",
   "language": "python",
   "name": "pycaret"
  },
  "language_info": {
   "codemirror_mode": {
    "name": "ipython",
    "version": 3
   },
   "file_extension": ".py",
   "mimetype": "text/x-python",
   "name": "python",
   "nbconvert_exporter": "python",
   "pygments_lexer": "ipython3",
   "version": "3.7.7"
  },
  "livereveal": {
   "scroll": true
  }
 },
 "nbformat": 4,
 "nbformat_minor": 4
}
