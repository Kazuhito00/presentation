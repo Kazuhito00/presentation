{
 "cells": [
  {
   "cell_type": "code",
   "execution_count": null,
   "metadata": {
    "slideshow": {
     "slide_type": "skip"
    }
   },
   "outputs": [],
   "source": [
    "%%HTML\n",
    "<link rel=\"stylesheet\" type=\"text/css\" href=\"css/rise.css\">"
   ]
  },
  {
   "cell_type": "code",
   "execution_count": null,
   "metadata": {
    "slideshow": {
     "slide_type": "skip"
    }
   },
   "outputs": [],
   "source": [
    "#jupyter nbconvert \"presentation.ipynb\" --to slides --reveal-prefix \"https://cdnjs.cloudflare.com/ajax/libs/reveal.js/3.1.0\""
   ]
  },
  {
   "cell_type": "markdown",
   "metadata": {
    "slideshow": {
     "slide_type": "slide"
    }
   },
   "source": [
    "<center><font size=\"12\" color=\"#efeff0\"><b>PyCaretでkaggleにチャレンジ中</b></font></center>\n",
    "<br>\n",
    "<center><font size=\"6\" color=\"#efeff0\"><b>Pythonデータ分析勉強会＃19　2020/5/16(土)</b></font></center>"
   ]
  },
  {
   "cell_type": "markdown",
   "metadata": {
    "slideshow": {
     "slide_type": "slide"
    }
   },
   "source": [
    "# お前、誰よ？"
   ]
  },
  {
   "attachments": {},
   "cell_type": "markdown",
   "metadata": {
    "slideshow": {
     "slide_type": "fragment"
    }
   },
   "source": [
    "<table>\n",
    "    <tr>\n",
    "        <td><img src=\"image/fish.gif\" alt=\"Drawing\" style=\"width: 200px;\"/></td>\n",
    "        <td><font size=\"6\">名前　 　：高橋かずひと<br>\n",
    "            Twitter　：@KzhtTkhs<br>\n",
    "            お仕事 　：組込、画像処理、IoT、Webアプリなど</font><br>\n",
    "            <font size=\"4\">その他、個人の活動で、インディーゲーム制作のお手伝をしています。</font>\n",
    "        </td>\n",
    "    </tr>\n",
    "</table>"
   ]
  },
  {
   "cell_type": "markdown",
   "metadata": {
    "slideshow": {
     "slide_type": "slide"
    }
   },
   "source": [
    "# 最近はディープラーニング(主に物体検出)やＡＲでよく遊んでいます。"
   ]
  },
  {
   "cell_type": "markdown",
   "metadata": {
    "slideshow": {
     "slide_type": "fragment"
    }
   },
   "source": [
    "<center><video width=\"70%\" src=\"image/2019production.mp4\" controls/></center>"
   ]
  },
  {
   "cell_type": "markdown",
   "metadata": {
    "slideshow": {
     "slide_type": "slide"
    }
   },
   "source": [
    "# 業務命令"
   ]
  },
  {
   "cell_type": "markdown",
   "metadata": {
    "slideshow": {
     "slide_type": "fragment"
    }
   },
   "source": [
    "上長「高橋くん機械学習(※何を指しているか謎)出来たよね？」<br>\n",
    "高橋「機械学習(画像系)出来なくもなくもないです」"
   ]
  },
  {
   "cell_type": "markdown",
   "metadata": {
    "slideshow": {
     "slide_type": "fragment"
    }
   },
   "source": [
    "上長「全社取り組みでAI注力することになったので、\n",
    "<br>　　　kaggleでメダル取ってください」"
   ]
  },
  {
   "cell_type": "markdown",
   "metadata": {
    "slideshow": {
     "slide_type": "fragment"
    }
   },
   "source": [
    "上長「あと後輩くん(知識無し)もサクッと育ててほしい」"
   ]
  },
  {
   "cell_type": "markdown",
   "metadata": {
    "slideshow": {
     "slide_type": "fragment"
    }
   },
   "source": [
    "高橋「そんなバカな🤮」　※ノンノンフィクション"
   ]
  },
  {
   "cell_type": "markdown",
   "metadata": {
    "slideshow": {
     "slide_type": "slide"
    }
   },
   "source": [
    "# PyCaretって？"
   ]
  },
  {
   "cell_type": "markdown",
   "metadata": {
    "slideshow": {
     "slide_type": "fragment"
    }
   },
   "source": [
    "「PyCaret is an open source, low-code  machine learning library in Python that allows you to go from preparing your data to deploying your model within seconds in your choice of notebook environment.」\n",
    "<br><br>\n",
    "DeepL翻訳：PyCaretはオープンソースのPythonによるローコード機械学習ライブラリで、データの準備からモデルのデプロイまで、お好みのノートブック環境で数秒で行うことができます。\n",
    "<br><br>\n",
    "参照：https://pycaret.org/"
   ]
  },
  {
   "cell_type": "markdown",
   "metadata": {
    "slideshow": {
     "slide_type": "subslide"
    }
   },
   "source": [
    "<b>特徴①：Increased Productivity</b><br><br>\n",
    "\n",
    "「PyCaret being a low-code library makes you more productive. With less time spent coding, you and your team can now focus on business problems.」\n",
    "<br><br>\n",
    "DeepL翻訳：PyCaret はローコードライブラリであるため、より生産性が高くなります。コーディングに費やす時間が減り、あなたとあなたのチームはビジネス上の問題に集中できるようになりました。"
   ]
  },
  {
   "cell_type": "markdown",
   "metadata": {
    "slideshow": {
     "slide_type": "subslide"
    }
   },
   "source": [
    "<b>特徴②：Easy to Use</b><br><br>\n",
    "\n",
    "「PyCaret is simple and easy to use machine learning library that will help you to perform end-to-end ML experiments with less lines of code.」\n",
    "<br><br>\n",
    "DeepL翻訳：PyCaretはシンプルで使いやすい機械学習ライブラリで、少ないコード行数でエンドツーエンドのML実験を行うことができます。"
   ]
  },
  {
   "cell_type": "markdown",
   "metadata": {
    "slideshow": {
     "slide_type": "subslide"
    }
   },
   "source": [
    "<b>特徴③：Business Ready</b><br><br>\n",
    "\n",
    "「PyCaret is a business ready solution. It allows you to do prototyping quickly and efficiently from your choice of notebook environment.」\n",
    "<br><br>\n",
    "DeepL翻訳：PyCaretはビジネスに即したソリューションです。選んだノートブック環境から素早く効率的にプロトタイピングを行うことができます。"
   ]
  },
  {
   "cell_type": "markdown",
   "metadata": {
    "slideshow": {
     "slide_type": "slide"
    }
   },
   "source": [
    "# 出来ること"
   ]
  },
  {
   "cell_type": "markdown",
   "metadata": {
    "slideshow": {
     "slide_type": "fragment"
    }
   },
   "source": [
    "* クラス分類\n",
    "* 回帰分析\n",
    "* クラスタリング\n",
    "* 異常検知(教師無し学習)\n",
    "* 自然言語処理\n",
    "* 相関ルールマイニング\n",
    "\n",
    "実装例：https://github.com/Kazuhito00/PyCaret-Learn"
   ]
  },
  {
   "cell_type": "markdown",
   "metadata": {
    "slideshow": {
     "slide_type": "slide"
    }
   },
   "source": [
    "# とりあえずTitanic"
   ]
  },
  {
   "cell_type": "markdown",
   "metadata": {
    "slideshow": {
     "slide_type": "slide"
    }
   },
   "source": [
    "# データ読み込み"
   ]
  },
  {
   "cell_type": "code",
   "execution_count": null,
   "metadata": {
    "slideshow": {
     "slide_type": "fragment"
    }
   },
   "outputs": [],
   "source": [
    "import numpy as np \n",
    "import pandas as pd \n",
    "import pandas_profiling"
   ]
  },
  {
   "cell_type": "code",
   "execution_count": null,
   "metadata": {
    "slideshow": {
     "slide_type": "fragment"
    }
   },
   "outputs": [],
   "source": [
    "train_data = pd.read_csv('./input/titanic/train.csv')\n",
    "test_data  = pd.read_csv('./input/titanic/test.csv')\n",
    "submission_data = pd.read_csv('./input/titanic/gender_submission.csv')"
   ]
  },
  {
   "cell_type": "code",
   "execution_count": null,
   "metadata": {
    "slideshow": {
     "slide_type": "subslide"
    }
   },
   "outputs": [],
   "source": [
    "train_data.info()"
   ]
  },
  {
   "cell_type": "code",
   "execution_count": null,
   "metadata": {
    "slideshow": {
     "slide_type": "subslide"
    }
   },
   "outputs": [],
   "source": [
    "train_data.profile_report()"
   ]
  },
  {
   "cell_type": "markdown",
   "metadata": {
    "slideshow": {
     "slide_type": "slide"
    }
   },
   "source": [
    "# 今回はEDA、特徴量エンジニアリング省略。。。"
   ]
  },
  {
   "cell_type": "markdown",
   "metadata": {
    "slideshow": {
     "slide_type": "slide"
    }
   },
   "source": [
    "# データセットアップ"
   ]
  },
  {
   "cell_type": "code",
   "execution_count": null,
   "metadata": {
    "slideshow": {
     "slide_type": "fragment"
    }
   },
   "outputs": [],
   "source": [
    "# クラス分類用インポート\n",
    "from pycaret.classification import *"
   ]
  },
  {
   "cell_type": "code",
   "execution_count": null,
   "metadata": {
    "slideshow": {
     "slide_type": "subslide"
    }
   },
   "outputs": [],
   "source": [
    "exp = setup(data=train_data,   # 訓練用データ\n",
    "            target='Survived', # 目標変数\n",
    "            ignore_features = ['PassengerId', 'Name'],   # 訓練に使用しない説明変数\n",
    "            session_id=42,     # 乱数シード\n",
    "            silent=True)"
   ]
  },
  {
   "cell_type": "markdown",
   "metadata": {
    "slideshow": {
     "slide_type": "slide"
    }
   },
   "source": [
    "# モデル比較"
   ]
  },
  {
   "cell_type": "code",
   "execution_count": null,
   "metadata": {
    "slideshow": {
     "slide_type": "fragment"
    }
   },
   "outputs": [],
   "source": [
    "compare_models(fold=5)"
   ]
  },
  {
   "cell_type": "markdown",
   "metadata": {
    "slideshow": {
     "slide_type": "slide"
    }
   },
   "source": [
    "# モデル生成"
   ]
  },
  {
   "cell_type": "code",
   "execution_count": null,
   "metadata": {
    "slideshow": {
     "slide_type": "fragment"
    }
   },
   "outputs": [],
   "source": [
    "lgbm_model = create_model('lightgbm')"
   ]
  },
  {
   "cell_type": "markdown",
   "metadata": {
    "slideshow": {
     "slide_type": "slide"
    }
   },
   "source": [
    "# モデルチューニング"
   ]
  },
  {
   "cell_type": "code",
   "execution_count": null,
   "metadata": {
    "slideshow": {
     "slide_type": "fragment"
    }
   },
   "outputs": [],
   "source": [
    "tune_lgbm_model = tune_model('lr', optimize='Recall')"
   ]
  },
  {
   "cell_type": "markdown",
   "metadata": {
    "slideshow": {
     "slide_type": "slide"
    }
   },
   "source": [
    "# プロット"
   ]
  },
  {
   "cell_type": "code",
   "execution_count": null,
   "metadata": {
    "slideshow": {
     "slide_type": "subslide"
    }
   },
   "outputs": [],
   "source": [
    "evaluate_model(lgbm_model)"
   ]
  },
  {
   "cell_type": "code",
   "execution_count": null,
   "metadata": {
    "slideshow": {
     "slide_type": "subslide"
    }
   },
   "outputs": [],
   "source": [
    "interpret_model(lgbm_model)"
   ]
  },
  {
   "cell_type": "markdown",
   "metadata": {
    "slideshow": {
     "slide_type": "slide"
    }
   },
   "source": [
    "# アンサンブル学習（ブレンディング）"
   ]
  },
  {
   "cell_type": "code",
   "execution_count": null,
   "metadata": {
    "slideshow": {
     "slide_type": "fragment"
    }
   },
   "outputs": [],
   "source": [
    "blend_model = blend_models(fold=5)  # モデル未指定時はサポートするモデル全てでブレンディング"
   ]
  },
  {
   "cell_type": "markdown",
   "metadata": {
    "slideshow": {
     "slide_type": "subslide"
    }
   },
   "source": [
    "# アンサンブル学習（スタッキング）"
   ]
  },
  {
   "cell_type": "code",
   "execution_count": null,
   "metadata": {
    "slideshow": {
     "slide_type": "fragment"
    }
   },
   "outputs": [],
   "source": [
    "rf_model = create_model('rf', verbose=False)\n",
    "dt_model = create_model('dt', verbose=False)\n",
    "stack_model = stack_models([rf_model, dt_model, lgbm_model], fold=5)"
   ]
  },
  {
   "cell_type": "markdown",
   "metadata": {
    "slideshow": {
     "slide_type": "subslide"
    }
   },
   "source": [
    "# アンサンブル学習（バギング）"
   ]
  },
  {
   "cell_type": "code",
   "execution_count": null,
   "metadata": {
    "slideshow": {
     "slide_type": "fragment"
    }
   },
   "outputs": [],
   "source": [
    "ensembled_model = ensemble_model(dt_model)"
   ]
  },
  {
   "cell_type": "markdown",
   "metadata": {
    "slideshow": {
     "slide_type": "subslide"
    }
   },
   "source": [
    "# アンサンブル学習（ブースティング）"
   ]
  },
  {
   "cell_type": "code",
   "execution_count": null,
   "metadata": {
    "slideshow": {
     "slide_type": "fragment"
    }
   },
   "outputs": [],
   "source": [
    "ensembled_model = ensemble_model(dt_model, method='Boosting')"
   ]
  },
  {
   "cell_type": "markdown",
   "metadata": {
    "slideshow": {
     "slide_type": "slide"
    }
   },
   "source": [
    "# 推論"
   ]
  },
  {
   "cell_type": "code",
   "execution_count": null,
   "metadata": {
    "slideshow": {
     "slide_type": "fragment"
    }
   },
   "outputs": [],
   "source": [
    "predictions = predict_model(lgbm_model, data=test_data)\n",
    "predictions.head()"
   ]
  },
  {
   "cell_type": "markdown",
   "metadata": {
    "slideshow": {
     "slide_type": "slide"
    }
   },
   "source": [
    "# チャレンジ中のコンペ"
   ]
  },
  {
   "cell_type": "markdown",
   "metadata": {
    "slideshow": {
     "slide_type": "fragment"
    }
   },
   "source": [
    "* University of Liverpool - Ion Switching<br>\n",
    "細胞の電気シグナルを元にイオンチャンネルの開放数を予想するコンペ\n",
    "\n",
    "* M5 Forecasting - Accuracy<br>\n",
    "ウォルマートの商品毎の売り上げ個数を予想するコンペ"
   ]
  },
  {
   "cell_type": "markdown",
   "metadata": {
    "slideshow": {
     "slide_type": "subslide"
    }
   },
   "source": [
    "一晩、学習寝かせて、さっき見たら<br>スコア激下がりしてた、、、ミスったorz"
   ]
  },
  {
   "cell_type": "markdown",
   "metadata": {
    "slideshow": {
     "slide_type": "slide"
    }
   },
   "source": [
    "# 所感"
   ]
  },
  {
   "cell_type": "markdown",
   "metadata": {
    "slideshow": {
     "slide_type": "fragment"
    }
   },
   "source": [
    "* (一部の)前処理、学習、推論が簡潔なコードで書ける<br>\n",
    "とりあえずLightGBM学習回して<br>interpret_model()で重要特徴量見るのとか瞬殺\n",
    "* (当然ですが)EDAや特徴量エンジニアリングが大事<br>\n",
    "でも、ある程度までは自動でそこそこ精度が上がる\n",
    "<br><br>\n",
    "* 初心者向けでも上級者向けでも無く、<br>割り切った中級者向けな印象(後輩くんにはどうだろう🤔)"
   ]
  },
  {
   "cell_type": "markdown",
   "metadata": {
    "slideshow": {
     "slide_type": "slide"
    }
   },
   "source": [
    "<center><font size=\"12\" color=\"#efeff0\"><b>ご清聴ありがとうございました🙃</b></font></center>"
   ]
  }
 ],
 "metadata": {
  "celltoolbar": "Slideshow",
  "kernelspec": {
   "display_name": "pycaret",
   "language": "python",
   "name": "pycaret"
  },
  "language_info": {
   "codemirror_mode": {
    "name": "ipython",
    "version": 3
   },
   "file_extension": ".py",
   "mimetype": "text/x-python",
   "name": "python",
   "nbconvert_exporter": "python",
   "pygments_lexer": "ipython3",
   "version": "3.7.7"
  },
  "livereveal": {
   "autolaunch": true,
   "scroll": true
  }
 },
 "nbformat": 4,
 "nbformat_minor": 4
}
